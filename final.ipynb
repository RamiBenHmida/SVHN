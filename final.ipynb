{
 "cells": [
  {
   "cell_type": "code",
   "execution_count": 1,
   "id": "c2c421c4-7781-45d6-a49b-b1458caf7adf",
   "metadata": {},
   "outputs": [],
   "source": [
    "import torch\n",
    "from torch.utils.data import DataLoader\n",
    "from torch import optim\n",
    "import torchvision\n",
    "#from torch.utils.tensorboard import SummaryWriter\n",
    "from torchvision import transforms\n",
    "\n",
    "import random\n",
    "import numpy as np\n",
    "import matplotlib.pyplot as plt\n",
    "from PIL import Image\n",
    "from itertools import product\n",
    "from copy import copy\n"
   ]
  },
  {
   "cell_type": "code",
   "execution_count": 2,
   "id": "d61e007d-ddeb-4322-ac00-c80c8683f7bd",
   "metadata": {},
   "outputs": [],
   "source": [
    "device = torch.device(\"cuda\" if torch.cuda.is_available() else \"cpu\")\n"
   ]
  },
  {
   "cell_type": "code",
   "execution_count": 3,
   "id": "f4329c68-854f-4066-993d-80aed79f28ab",
   "metadata": {},
   "outputs": [
    {
     "data": {
      "text/plain": [
       "device(type='cuda')"
      ]
     },
     "execution_count": 3,
     "metadata": {},
     "output_type": "execute_result"
    }
   ],
   "source": [
    "device"
   ]
  },
  {
   "cell_type": "code",
   "execution_count": 4,
   "id": "be5bb63a-1829-4b0e-81d9-2b8187afb29f",
   "metadata": {},
   "outputs": [
    {
     "name": "stdout",
     "output_type": "stream",
     "text": [
      "Using downloaded and verified file: /data/torchvision/train_32x32.mat\n"
     ]
    }
   ],
   "source": [
    "transform = transforms.Compose([transforms.ToTensor()])\n",
    "\n",
    "dataset = torchvision.datasets.SVHN(root='/data/torchvision', split='train' ,download=True, transform=transform)\n"
   ]
  },
  {
   "cell_type": "code",
   "execution_count": 5,
   "id": "0c1cc77d-7ffd-4409-9dd4-b273c538f121",
   "metadata": {},
   "outputs": [
    {
     "data": {
      "text/plain": [
       "Dataset SVHN\n",
       "    Number of datapoints: 73257\n",
       "    Root location: /data/torchvision\n",
       "    Split: train\n",
       "    StandardTransform\n",
       "Transform: Compose(\n",
       "               ToTensor()\n",
       "           )"
      ]
     },
     "execution_count": 5,
     "metadata": {},
     "output_type": "execute_result"
    }
   ],
   "source": [
    "dataset"
   ]
  },
  {
   "cell_type": "code",
   "execution_count": 6,
   "id": "cafd92b4-2c38-4170-b47e-6d4c7ffa1b17",
   "metadata": {},
   "outputs": [
    {
     "name": "stdout",
     "output_type": "stream",
     "text": [
      "Using downloaded and verified file: /data/torchvision/test_32x32.mat\n"
     ]
    }
   ],
   "source": [
    "test = torchvision.datasets.SVHN(root='/data/torchvision', split='test', download=True, transform=transform)\n"
   ]
  },
  {
   "cell_type": "code",
   "execution_count": 7,
   "id": "88af075f-20c5-46f5-a3ed-20278e6f47f4",
   "metadata": {},
   "outputs": [
    {
     "data": {
      "text/plain": [
       "Dataset SVHN\n",
       "    Number of datapoints: 26032\n",
       "    Root location: /data/torchvision\n",
       "    Split: test\n",
       "    StandardTransform\n",
       "Transform: Compose(\n",
       "               ToTensor()\n",
       "           )"
      ]
     },
     "execution_count": 7,
     "metadata": {},
     "output_type": "execute_result"
    }
   ],
   "source": [
    "test"
   ]
  },
  {
   "cell_type": "code",
   "execution_count": 8,
   "id": "7907571b-200b-4a5a-953d-78e0c1308d02",
   "metadata": {},
   "outputs": [],
   "source": [
    "#rain_size = int(len(dataset)*0.8)\n",
    "#validation_size = len(dataset) - train_size\n",
    "\n",
    "train = dataset\n",
    "validation = test\n",
    "#torch.utils.data.random_split(dataset, [train_size, validation_size])"
   ]
  },
  {
   "cell_type": "code",
   "execution_count": 9,
   "id": "1ef27a4a-23a7-4c05-9e57-ef30e767d78a",
   "metadata": {},
   "outputs": [
    {
     "data": {
      "text/plain": [
       "(73257, 26032)"
      ]
     },
     "execution_count": 9,
     "metadata": {},
     "output_type": "execute_result"
    }
   ],
   "source": [
    "len(train), len(validation)\n"
   ]
  },
  {
   "cell_type": "code",
   "execution_count": 10,
   "id": "db244628-f653-4550-9c7f-8661d70e7f45",
   "metadata": {},
   "outputs": [],
   "source": [
    "train_data_loader = DataLoader(train, batch_size=64)\n"
   ]
  },
  {
   "cell_type": "code",
   "execution_count": 11,
   "id": "eedfe3a1-596f-450f-b299-98af020b5180",
   "metadata": {},
   "outputs": [],
   "source": [
    "images, targets = next(iter(train_data_loader))\n"
   ]
  },
  {
   "cell_type": "code",
   "execution_count": 12,
   "id": "949af425-5e82-4046-be58-8937fce52cac",
   "metadata": {},
   "outputs": [
    {
     "data": {
      "text/plain": [
       "torch.Size([64, 3, 32, 32])"
      ]
     },
     "execution_count": 12,
     "metadata": {},
     "output_type": "execute_result"
    }
   ],
   "source": [
    "images.size()\n"
   ]
  },
  {
   "cell_type": "code",
   "execution_count": 13,
   "id": "23de1676-02f9-4490-92c7-d1f58b61a5c1",
   "metadata": {},
   "outputs": [
    {
     "data": {
      "text/plain": [
       "3072"
      ]
     },
     "execution_count": 13,
     "metadata": {},
     "output_type": "execute_result"
    }
   ],
   "source": [
    "len(torch.flatten(images[0]))\n"
   ]
  },
  {
   "cell_type": "code",
   "execution_count": 14,
   "id": "adf19a7a-f84d-409e-b5d7-b14367566157",
   "metadata": {},
   "outputs": [],
   "source": [
    "def get_data(train_ds, valid_ds, bs):\n",
    "    return (\n",
    "        DataLoader(train_ds, batch_size=bs, shuffle=True),\n",
    "        DataLoader(valid_ds, batch_size=bs * 2),\n",
    "    )"
   ]
  },
  {
   "cell_type": "code",
   "execution_count": 15,
   "id": "09de3718-3113-41fe-a87f-d7f350e98d48",
   "metadata": {},
   "outputs": [],
   "source": [
    "def loss_batch(model_output, loss_func, xb, yb, opt=None): #calculat loss of train\n",
    "    \n",
    "    output = loss_func(model_output, yb)\n",
    "\n",
    "    if opt is not None:\n",
    "        output.backward()\n",
    "        opt.step()\n",
    "        opt.zero_grad()\n",
    "\n",
    "    return output.item(), len(xb)"
   ]
  },
  {
   "cell_type": "code",
   "execution_count": 16,
   "id": "c8d95866-4f2b-43e3-a6ef-2781936553e7",
   "metadata": {},
   "outputs": [],
   "source": [
    "def loss_batches(model, data_loader, loss_func, opt=None):\n",
    "    correct = 0\n",
    "    losses, batch_sizes = [], []\n",
    "  \n",
    "    for xb, yb in data_loader:\n",
    "    \n",
    "        xb, yb = xb.to(device), yb.to(device)\n",
    "        model_output = model(xb)\n",
    "        _, y_predict = torch.max(model_output.data, 1)\n",
    "        correct += (y_predict == yb).sum().item()\n",
    "\n",
    "        loss, batch_size = loss_batch(model_output, loss_func, xb, yb, opt)\n",
    "        \n",
    "        losses.append(loss)\n",
    "        batch_sizes.append(batch_size)\n",
    "\n",
    "    return correct, losses, batch_sizes"
   ]
  },
  {
   "cell_type": "code",
   "execution_count": 17,
   "id": "f3b5adf1-3a2e-4463-9c9f-3e520ac101fe",
   "metadata": {},
   "outputs": [],
   "source": [
    "def calc_loss(losses, nums):\n",
    "    return np.sum(np.multiply(losses, nums)) / np.sum(nums)"
   ]
  },
  {
   "cell_type": "code",
   "execution_count": 18,
   "id": "09102ec8-20de-4cbb-94ba-90863a2d22e0",
   "metadata": {},
   "outputs": [],
   "source": [
    "def accuracy(correct, batch_sizes):\n",
    "    return correct/np.sum(batch_sizes)"
   ]
  },
  {
   "cell_type": "code",
   "execution_count": 19,
   "id": "cd68f85a-ba6f-4a58-9802-81cde0c9e20e",
   "metadata": {},
   "outputs": [],
   "source": [
    "def train_epoch(model, data_loader, loss_func, eval_func, opt):\n",
    "  \n",
    "    model.train()\n",
    "    correct, losses, batch_sizes = loss_batches(model, data_loader, loss_func, opt)\n",
    "    return eval_func(correct, batch_sizes), calc_loss(losses, batch_sizes)\n",
    "     "
   ]
  },
  {
   "cell_type": "code",
   "execution_count": 20,
   "id": "cda60f17-8c16-4c00-ad7c-f41000c68b3b",
   "metadata": {},
   "outputs": [],
   "source": [
    "def validate_epoch(model, data_loader, loss_func, eval_func, opt):\n",
    "    model.eval()\n",
    "    with torch.no_grad():\n",
    "        correct, losses, batch_sizes = loss_batches(model, data_loader, loss_func)\n",
    "        \n",
    "    return eval_func(correct, batch_sizes), calc_loss(losses, batch_sizes)"
   ]
  },
  {
   "cell_type": "code",
   "execution_count": 21,
   "id": "1884036c-a1f4-4436-ad76-0f47d706bb96",
   "metadata": {},
   "outputs": [],
   "source": [
    "def fit(epochs, model, loss_func, opt, train_dl, valid_dl):\n",
    "\n",
    "    train_losses, valid_losses = [], []\n",
    "    train_accs, valid_accs = [], []\n",
    "\n",
    "    for epoch in range(epochs):\n",
    "\n",
    "        train_acc, train_loss = train_epoch(model, train_dl, loss_func, accuracy, opt)\n",
    "        train_accs.append(train_acc)\n",
    "        train_losses.append(train_loss)\n",
    "\n",
    "        valid_acc, val_loss = validate_epoch(model, valid_dl, loss_func, accuracy, opt) \n",
    "        valid_accs.append(valid_acc)\n",
    "        valid_losses.append(val_loss)\n",
    "\n",
    "        print(epoch, f'train_loss={train_loss}\\tval_loss={val_loss}')\n",
    "\n",
    "    return train_losses, valid_losses, train_accs, valid_accs"
   ]
  },
  {
   "cell_type": "code",
   "execution_count": 22,
   "id": "93662d29-ca1a-49ff-9c67-dfa1a836e06e",
   "metadata": {},
   "outputs": [],
   "source": [
    "def plot_loss(title, epochs, train_losses, val_losses):\n",
    "    plt.plot(range(epochs), train_losses, label='Train')\n",
    "    plt.plot(range(epochs), val_losses, label='Test')\n",
    "    plt.legend()\n",
    "    plt.title(title)\n",
    "    plt.xlabel('epochs')"
   ]
  },
  {
   "cell_type": "code",
   "execution_count": 23,
   "id": "7e3964e5-bc46-4765-a2be-1d46905135bb",
   "metadata": {},
   "outputs": [],
   "source": [
    "def get_model_cnn():\n",
    "    \n",
    "    in_channels = 3 #RGB\n",
    "\n",
    "    H, D_out = 84, 10\n",
    "    model = torch.nn.Sequential(\n",
    "        torch.nn.Conv2d(3, 6, kernel_size=5, stride=1, padding=0),\n",
    "        torch.nn.ReLU(),\n",
    "        torch.nn.MaxPool2d(kernel_size = 2, stride = 2),\n",
    "            \n",
    "        torch.nn.Conv2d(6, 16, kernel_size=5, stride=1, padding=0),\n",
    "        torch.nn.ReLU(),\n",
    "        torch.nn.MaxPool2d(kernel_size = 2, stride = 2),\n",
    "\n",
    "        torch.nn.Flatten(),\n",
    "        torch.nn.Linear(400,120),\n",
    "        torch.nn.ReLU(),\n",
    "        torch.nn.Linear(120,84),\n",
    "        torch.nn.ReLU(),\n",
    "        torch.nn.Linear(H, D_out),\n",
    "        torch.nn.Softmax(dim=1),\n",
    "    )\n",
    "    model.to(device)\n",
    "    \n",
    "    return model, optim.Adam(model.parameters(), lr=0.001)"
   ]
  },
  {
   "cell_type": "code",
   "execution_count": 24,
   "id": "5584abd0-b4a4-4b70-a3a3-3ac14660a6dc",
   "metadata": {},
   "outputs": [
    {
     "name": "stdout",
     "output_type": "stream",
     "text": [
      "0 train_loss=2.02010223962397\tval_loss=1.8966618944108302\n",
      "1 train_loss=1.9011148925638415\tval_loss=1.8805874251264256\n"
     ]
    }
   ],
   "source": [
    "batch_size = 32\n",
    "epochs = 2\n",
    "loss_fn = torch.nn.CrossEntropyLoss()\n",
    "\n",
    "train_dl, valid_dl = get_data(train, validation, batch_size)\n",
    "model, opt = get_model_cnn()\n",
    "train_losses, val_losses, train_accs, valid_accs = fit(epochs, model, loss_fn, opt, train_dl, valid_dl)"
   ]
  },
  {
   "cell_type": "code",
   "execution_count": 25,
   "id": "312674f5-1e56-4dd7-aed8-67c2aab735b5",
   "metadata": {},
   "outputs": [
    {
     "data": {
      "image/png": "[encoded data removed]",
      "text/plain": [
       "<Figure size 432x288 with 1 Axes>"
      ]
     },
     "metadata": {
      "needs_background": "light"
     },
     "output_type": "display_data"
    }
   ],
   "source": [
    "plot_loss('Adam-Model Loss', epochs, train_losses, val_losses)\n"
   ]
  },
  {
   "cell_type": "code",
   "execution_count": 26,
   "id": "dff8b163-4fcc-4b49-8679-919519e48a82",
   "metadata": {},
   "outputs": [
    {
     "data": {
      "image/png": "[encoded data removed]",
      "text/plain": [
       "<Figure size 432x288 with 1 Axes>"
      ]
     },
     "metadata": {
      "needs_background": "light"
     },
     "output_type": "display_data"
    }
   ],
   "source": [
    "plot_loss('Adam-Model Accuracy', epochs, train_accs, valid_accs)\n"
   ]
  },
  {
   "cell_type": "code",
   "execution_count": 27,
   "id": "8114c514-e3e2-400c-bea4-8fce8d63ca9e",
   "metadata": {},
   "outputs": [
    {
     "data": {
      "text/plain": [
       "0.5791333743085433"
      ]
     },
     "execution_count": 27,
     "metadata": {},
     "output_type": "execute_result"
    }
   ],
   "source": [
    "#loss_fn = torch.nn.CrossEntropyLoss()\n",
    "\n",
    "test_data_loader = DataLoader(test, batch_size=64)\n",
    "accuracy1, loss = validate_epoch(model, test_data_loader, loss_fn, accuracy, opt=None)\n",
    "\n",
    "accuracy1"
   ]
  },
  {
   "cell_type": "code",
   "execution_count": 28,
   "id": "3599e7de-0525-4199-a717-557b290a2626",
   "metadata": {},
   "outputs": [
    {
     "data": {
      "text/plain": [
       "0.5791333743085433"
      ]
     },
     "execution_count": 28,
     "metadata": {},
     "output_type": "execute_result"
    }
   ],
   "source": [
    "valid_accs[-1]"
   ]
  },
  {
   "cell_type": "code",
   "execution_count": 29,
   "id": "16f8b4e3-c38a-4b14-bbc4-d46d47add8ff",
   "metadata": {},
   "outputs": [],
   "source": [
    "#torch.save(model.state_dict(), \"saved__model.pt\")\n"
   ]
  },
  {
   "cell_type": "code",
   "execution_count": 30,
   "id": "3eb7cca8-c323-4444-a410-7910fef45ecf",
   "metadata": {},
   "outputs": [],
   "source": [
    "def get_model_cnn_improved():\n",
    "    \n",
    "    in_channels = 3 #RGB\n",
    "\n",
    "    H, D_out = 128, 10\n",
    "\n",
    "    model = torch.nn.Sequential(\n",
    "      torch.nn.Conv2d(in_channels, 32, kernel_size=3, stride=1, padding=1),\n",
    "      torch.nn.ReLU(),\n",
    "      torch.nn.MaxPool2d(kernel_size=2, stride=2),\n",
    "        \n",
    "      torch.nn.Conv2d(32, 64, kernel_size=3, stride=1, padding=1),\n",
    "      torch.nn.ReLU(),\n",
    "      torch.nn.BatchNorm2d(64),\n",
    "      torch.nn.MaxPool2d(kernel_size=2, stride=2),\n",
    "      torch.nn.Dropout(p=0.5),\n",
    "        \n",
    "      torch.nn.Conv2d(64, 128, kernel_size=3, stride=1, padding=1),\n",
    "      torch.nn.ReLU(),\n",
    "      torch.nn.BatchNorm2d(128),\n",
    "      torch.nn.MaxPool2d(kernel_size=2, stride=2),\n",
    "      torch.nn.Dropout(p=0.5),\n",
    "        \n",
    "      torch.nn.Flatten(),\n",
    "      torch.nn.Linear(128*4*4, H),\n",
    "      torch.nn.ReLU(),\n",
    "      torch.nn.Linear(H, D_out),\n",
    "      torch.nn.LogSoftmax(dim=1),\n",
    "    )\n",
    "\n",
    "    model.to(device)\n",
    "     \n",
    "    return model, optim.Adam(model.parameters(), lr=0.001)"
   ]
  },
  {
   "cell_type": "code",
   "execution_count": 31,
   "id": "9614e4ba-59f5-4537-89f3-4188f3680786",
   "metadata": {},
   "outputs": [
    {
     "name": "stdout",
     "output_type": "stream",
     "text": [
      "0 train_loss=1.0622878871563277\tval_loss=0.4989492094033176\n",
      "1 train_loss=0.5549810325630578\tval_loss=0.3961156567475073\n"
     ]
    }
   ],
   "source": [
    "batch_size = 64\n",
    "epochs = 2\n",
    "#loss_fn = torch.nn.CrossEntropyLoss()\n",
    "\n",
    "train_dl, valid_dl = get_data(train, validation, batch_size)\n",
    "model_cnn_improved, opt = get_model_cnn_improved()\n",
    "\n",
    "train_losses1, val_losses1, train_accs1, valid_accs1 = fit(epochs, model_cnn_improved, loss_fn, opt, train_dl, valid_dl)"
   ]
  },
  {
   "cell_type": "code",
   "execution_count": 32,
   "id": "80b87bd4-eef3-47e8-8497-0e43d57db161",
   "metadata": {},
   "outputs": [
    {
     "data": {
      "image/png": "[encoded data removed]",
      "text/plain": [
       "<Figure size 432x288 with 1 Axes>"
      ]
     },
     "metadata": {
      "needs_background": "light"
     },
     "output_type": "display_data"
    }
   ],
   "source": [
    "plot_loss('Model-improved Dropout=0.5 LogSoftmax Loss', epochs, train_losses1, val_losses1)\n"
   ]
  },
  {
   "cell_type": "code",
   "execution_count": 33,
   "id": "66512a5a-b8df-4ea2-86c7-757870bb2121",
   "metadata": {},
   "outputs": [
    {
     "data": {
      "image/png": "[encoded data removed]",
      "text/plain": [
       "<Figure size 432x288 with 1 Axes>"
      ]
     },
     "metadata": {
      "needs_background": "light"
     },
     "output_type": "display_data"
    }
   ],
   "source": [
    "plot_loss('Model-improved Dropout=0.5 LogSoftmax Accuracy', epochs, train_accs1, valid_accs1)\n"
   ]
  },
  {
   "cell_type": "code",
   "execution_count": 34,
   "id": "1496a0b9-31c7-4414-a999-474808949849",
   "metadata": {},
   "outputs": [
    {
     "data": {
      "text/plain": [
       "0.8826060233558697"
      ]
     },
     "execution_count": 34,
     "metadata": {},
     "output_type": "execute_result"
    }
   ],
   "source": [
    "valid_accs1[-1]\n"
   ]
  },
  {
   "cell_type": "code",
   "execution_count": 35,
   "id": "135d6e4f-65d4-4b46-97b5-8e3947fb1f64",
   "metadata": {},
   "outputs": [
    {
     "data": {
      "text/plain": [
       "0.8826060233558697"
      ]
     },
     "execution_count": 35,
     "metadata": {},
     "output_type": "execute_result"
    }
   ],
   "source": [
    "test_data_loader = DataLoader(test, batch_size=64)\n",
    "accuracy_test, loss_test = validate_epoch(model_cnn_improved, test_data_loader, loss_fn, \n",
    "                                          accuracy, opt=None)\n",
    "\n",
    "accuracy_test"
   ]
  },
  {
   "cell_type": "code",
   "execution_count": 40,
   "id": "d69b27ec-82c5-45cf-a06e-e6b33a7bb0da",
   "metadata": {},
   "outputs": [
    {
     "name": "stdout",
     "output_type": "stream",
     "text": [
      "0 train_loss=2.006079547446608\tval_loss=1.4913854371131237\n",
      "1 train_loss=0.9302556068337757\tval_loss=0.6076258749923753\n"
     ]
    }
   ],
   "source": [
    "batch_size = 64\n",
    "epochs = 2\n",
    "#loss_fn = torch.nn.CrossEntropyLoss()\n",
    "\n",
    "train_dl, valid_dl = get_data(train_transformed, validation, batch_size)\n",
    "model_cnn_improved_lr1, __ = get_model_cnn_improved()\n",
    "opt = optim.Adam(model_cnn_improved_lr1.parameters(), lr=0.01)\n",
    "\n",
    "train_losses6, val_losses6, train_accs6, valid_accs6 = fit(epochs, model_cnn_improved_lr1, loss_fn, opt, train_dl, valid_dl)"
   ]
  },
  {
   "cell_type": "code",
   "execution_count": 41,
   "id": "60b55a46-f592-44f9-aeed-2c74e73c8daf",
   "metadata": {},
   "outputs": [
    {
     "data": {
      "image/png": "[encoded data removed]",
      "text/plain": [
       "<Figure size 432x288 with 1 Axes>"
      ]
     },
     "metadata": {
      "needs_background": "light"
     },
     "output_type": "display_data"
    }
   ],
   "source": [
    "plot_loss('Model-improved lr=0.01 Loss', epochs, train_losses6, val_losses6)\n"
   ]
  },
  {
   "cell_type": "code",
   "execution_count": 42,
   "id": "259ab9e2-bccf-4f27-9a03-eff6494832a8",
   "metadata": {},
   "outputs": [
    {
     "data": {
      "image/png": "[encoded data removed]",
      "text/plain": [
       "<Figure size 432x288 with 1 Axes>"
      ]
     },
     "metadata": {
      "needs_background": "light"
     },
     "output_type": "display_data"
    }
   ],
   "source": [
    "plot_loss('Model-improved lr=0.01 Accuracy', epochs, train_accs6, valid_accs6)\n"
   ]
  },
  {
   "cell_type": "code",
   "execution_count": null,
   "id": "dbeaaaf2-2b35-40f7-b175-27e2a76b71a9",
   "metadata": {},
   "outputs": [],
   "source": [
    "batch_size = 64\n",
    "epochs = 2\n",
    "#loss_fn = torch.nn.CrossEntropyLoss()\n",
    "\n",
    "train_dl, valid_dl = get_data(train_transformed, validation, batch_size)\n",
    "model_cnn_improved_lr2, __ = get_model_cnn_improved()\n",
    "opt = optim.Adam(model_cnn_improved_lr2.parameters(), lr=0.0001)\n",
    "\n",
    "train_losses7, val_losses7, train_accs7, valid_accs7 = fit(epochs, model_cnn_improved_lr2, loss_fn, opt, train_dl, valid_dl)"
   ]
  },
  {
   "cell_type": "code",
   "execution_count": null,
   "id": "b10e1c78-a7b4-4925-9185-5a1b9288c370",
   "metadata": {},
   "outputs": [],
   "source": [
    "plot_loss('CNN-improved lr=0.0001 Loss', epochs, train_losses7, val_losses7)\n"
   ]
  },
  {
   "cell_type": "code",
   "execution_count": null,
   "id": "301196b0-1957-4de2-acd7-c340b2885c9e",
   "metadata": {},
   "outputs": [],
   "source": [
    "plot_loss('Model-improved lr=0.0001 Accuracy', epochs, train_accs7, valid_accs7)\n"
   ]
  },
  {
   "cell_type": "code",
   "execution_count": null,
   "id": "e16e3922-5279-4a3c-96bc-af59f09cafb1",
   "metadata": {},
   "outputs": [],
   "source": [
    "valid_accs7[-1]\n"
   ]
  },
  {
   "cell_type": "code",
   "execution_count": null,
   "id": "1a4d4ea4-3198-4b65-9ff7-88b6610b9a68",
   "metadata": {},
   "outputs": [],
   "source": [
    "test_data_loader = DataLoader(test, batch_size=64)\n",
    "accuracy_test, loss_test = validate_epoch(model_cnn_improved_lr2, test_data_loader, loss_fn, \n",
    "                                          accuracy, opt=None)\n",
    "\n",
    "accuracy_test"
   ]
  },
  {
   "cell_type": "code",
   "execution_count": null,
   "id": "f5163e98-b618-4e44-b441-3324430cb5ec",
   "metadata": {},
   "outputs": [],
   "source": []
  }
 ],
 "metadata": {
  "kernelspec": {
   "display_name": "Python 3 (ipykernel)",
   "language": "python",
   "name": "python3"
  },
  "language_info": {
   "codemirror_mode": {
    "name": "ipython",
    "version": 3
   },
   "file_extension": ".py",
   "mimetype": "text/x-python",
   "name": "python",
   "nbconvert_exporter": "python",
   "pygments_lexer": "ipython3",
   "version": "3.9.7"
  }
 },
 "nbformat": 4,
 "nbformat_minor": 5
}
